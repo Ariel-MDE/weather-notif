{
  "cells": [
    {
      "cell_type": "markdown",
      "metadata": {},
      "source": [
        "MDE Dam Safety Weather Notification Code\n",
        "Version 2.1\n",
        "March 18, 2024\n",
        "This version includes:\n",
        "* Parallelized API calls\n",
        "* OAuth 2.0 persistence after password changes\n",
        "* Automated NOAA API calls\n",
        "* Customizable email preferences\n",
        "* Renamed variables for clarity"
      ]
    },
    {
      "cell_type": "code",
      "execution_count": 27,
      "metadata": {
        "colab": {
          "base_uri": "https://localhost:8080/"
        },
        "id": "wmLL6Ef9g8hx",
        "outputId": "0916550b-b287-4db1-aa60-2c2157a29082"
      },
      "outputs": [],
      "source": [
        "from datetime import datetime\n",
        "from datetime import timedelta\n",
        "import os\n",
        "import subprocess\n",
        "import nbformat\n",
        "from nbconvert import HTMLExporter\n",
        "import IPython.core.display as display\n",
        "\n",
        "#Put the path to the NOAA + Master Table .xlsx below:\n",
        "# if it throws a unicode error, replace any \\ characters with either \\\\ or /\n",
        "# Note, this MUST be the .csv of the Master Table that is outputted by the noaaData script for this code to work.\n",
        "# The design precipitation column is necessary.\n",
        "uploaded = 'damsNOAA.csv'"
      ]
    },
    {
      "cell_type": "code",
      "execution_count": 28,
      "metadata": {},
      "outputs": [
        {
          "name": "stdout",
          "output_type": "stream",
          "text": [
            "13:25:16.574396\n"
          ]
        }
      ],
      "source": [
        "# NOAA data only needs to be updated on rare occasion, so this ensures it is only updated yearly\n",
        "\n",
        "def is_file_old(filepath):\n",
        "    if not os.path.exists(filepath):\n",
        "        return True  # File doesn't exist, so it's considered old\n",
        "    else:\n",
        "        file_modified_time = datetime.fromtimestamp(os.path.getmtime(filepath))\n",
        "        current_time = datetime.now()\n",
        "        difference = current_time - file_modified_time\n",
        "        return difference.days > 365  # Check if file is older than 1 year\n",
        "    \n",
        "if is_file_old('damsNOAA.csv'):\n",
        "    print(\"NOAA data is older than 1 year. Gathering data again...\")\n",
        "    notebook_path = 'noaaData.ipynb'\n",
        "    # Command to run the Jupyter Notebook file\n",
        "    command = f'jupyter nbconvert --to notebook --inplace --execute {notebook_path}'\n",
        "\n",
        "    # Run the command as a subprocess\n",
        "    process = subprocess.Popen(command, shell=True, stdout=subprocess.PIPE, stderr=subprocess.PIPE)\n",
        "\n",
        "    # Wait for the subprocess to complete\n",
        "    stdout, stderr = process.communicate()\n",
        "\n",
        "    # Check the return code to see if the subprocess completed successfully\n",
        "    if process.returncode == 0:\n",
        "        print('Notebook executed successfully!')\n",
        "    else:\n",
        "        print(f'Error executing notebook: {stderr.decode()}')"
      ]
    },
    {
      "cell_type": "code",
      "execution_count": 29,
      "metadata": {},
      "outputs": [],
      "source": [
        "# Get the API key from the Windows environment variable\n",
        "# On MDE systems that prohibit modifying environment variables, run: `rundll32 sysdm.cpl,EditEnvironmentVariables` in cmd to modify\n",
        "# Environment variables should always be used rather than pasting passwords/keys into code.\n",
        "apikey = os.environ.get('weatherAPI_key')"
      ]
    },
    {
      "cell_type": "code",
      "execution_count": 30,
      "metadata": {},
      "outputs": [],
      "source": [
        "## Retry wrapper allows for retrying API pulls/email pushes if there is an error without the code crashing\n",
        "\n",
        "import time\n",
        "import pandas as pd\n",
        "\n",
        "pd.options.display.max_colwidth = 1000\n",
        "\n",
        "def retryURL(func, retries=10):\n",
        "    def retry_wrapper(*args, **kwargs):\n",
        "        attempts = 0\n",
        "        while attempts < retries:\n",
        "            print(f\"Running\")\n",
        "            try:\n",
        "                return func(*args, **kwargs)\n",
        "            except Exception as e:\n",
        "                print(f\"Error: {e} (attempt {attempts+1}/{retries})\")\n",
        "                \n",
        "                time.sleep(2)\n",
        "                attempts += 1\n",
        "\n",
        "    return retry_wrapper      \n",
        "\n",
        "@retryURL\n",
        "def url_to_dataframe(url):\n",
        "    df = pd.read_json(url)\n",
        "    return df\n",
        "          "
      ]
    },
    {
      "cell_type": "code",
      "execution_count": 31,
      "metadata": {
        "id": "h9oojH8IgmqW"
      },
      "outputs": [
        {
          "name": "stdout",
          "output_type": "stream",
          "text": [
            "0                        [0.0, 0.0, 0.0, 0.0, 0.0, 0.0, 0.0, 0.0, 0.0, 0.0, 0.0, 0.0, 0.0, 0.0, 0.0, 0.0, 0.0, 0.0, 0.0, 0.0, 0.0, 0.0, 0.0, 0.0, 0.0, 0.0, 0.0, 0.0, 0.0, 0.0, 0.0, 0.0, 0.01, 0.01, 0.01, 0.02, 0.02, 0.02, 0.01, 0.01, 0.01, 0.0, 0.0, 0.0, 0.0, 0.0, 0.0, 0.0, 0.0, 0.0, 0.0, 0.0, 0.0, 0.0, 0.0, 0.0, 0.0, 0.0, 0.0, 0.0, 0.0, 0.0, 0.0, 0.0, 0.0, 0.0, 0.0, 0.0, 0.0, 0.0, 0.0, 0.0, 0, 0, 0, 0, 0, 0, 0, 0, 0, 0, 0, 0, 0, 0, 0, 0, 0, 0, 0, 0, 0, 0, 0, 0]\n",
            "1                                 [0.0, 0.0, 0.0, 0.0, 0.0, 0.0, 0.0, 0.0, 0.0, 0.0, 0.0, 0.0, 0.0, 0.0, 0.0, 0.0, 0.0, 0.0, 0.0, 0.0, 0.0, 0.0, 0.0, 0.0, 0.0, 0.0, 0.0, 0.0, 0.0, 0.0, 0.0, 0.0, 0.0, 0.0, 0.0, 0.0, 0.0, 0.0, 0.0, 0.0, 0.0, 0.0, 0.0, 0.0, 0.0, 0.0, 0.0, 0.0, 0.0, 0.0, 0.0, 0.0, 0.0, 0.0, 0.0, 0.0, 0.0, 0.0, 0.0, 0.0, 0.0, 0.0, 0.0, 0.0, 0.0, 0.0, 0.0, 0.0, 0.0, 0.0, 0.0, 0.0, 0, 0, 0, 0, 0, 0, 0, 0, 0, 0, 0, 0, 0, 0, 0, 0, 0, 0, 0, 0, 0, 0, 0, 0]\n",
            "2                           [0.0, 0.0, 0.0, 0.0, 0.0, 0.0, 0.0, 0.0, 0.0, 0.0, 0.0, 0.0, 0.0, 0.0, 0.0, 0.0, 0.0, 0.0, 0.0, 0.0, 0.0, 0.0, 0.0, 0.0, 0.0, 0.0, 0.0, 0.0, 0.0, 0.0, 0.0, 0.0, 0.01, 0.01, 0.01, 0.01, 0.01, 0.01, 0.0, 0.0, 0.0, 0.0, 0.0, 0.0, 0.0, 0.0, 0.0, 0.0, 0.0, 0.0, 0.0, 0.0, 0.0, 0.0, 0.0, 0.0, 0.0, 0.0, 0.0, 0.0, 0.0, 0.0, 0.0, 0.0, 0.0, 0.0, 0.0, 0.0, 0.0, 0.0, 0.0, 0.0, 0, 0, 0, 0, 0, 0, 0, 0, 0, 0, 0, 0, 0, 0, 0, 0, 0, 0, 0, 0, 0, 0, 0, 0]\n",
            "3      [0.05, 0.06, 0.05, 0.04, 0.03, 0.02, 0.01, 0.0, 0.0, 0.0, 0.0, 0.0, 0.0, 0.0, 0.0, 0.0, 0.0, 0.0, 0.0, 0.0, 0.0, 0.01, 0.02, 0.02, 0.03, 0.04, 0.05, 0.04, 0.03, 0.03, 0.02, 0.01, 0.01, 0.03, 0.04, 0.05, 0.05, 0.05, 0.04, 0.02, 0.01, 0.0, 0.0, 0.0, 0.0, 0.0, 0.0, 0.0, 0.0, 0.0, 0.0, 0.0, 0.0, 0.0, 0.0, 0.0, 0.0, 0.0, 0.0, 0.0, 0.0, 0.0, 0.0, 0.0, 0.0, 0.0, 0.0, 0.0, 0.0, 0.0, 0.0, 0.0, 0, 0, 0, 0, 0, 0, 0, 0, 0, 0, 0, 0, 0, 0, 0, 0, 0, 0, 0, 0, 0, 0, 0, 0]\n",
            "4                           [0.0, 0.0, 0.0, 0.0, 0.0, 0.0, 0.0, 0.0, 0.0, 0.0, 0.0, 0.0, 0.0, 0.0, 0.0, 0.0, 0.0, 0.0, 0.0, 0.0, 0.0, 0.0, 0.0, 0.0, 0.0, 0.0, 0.0, 0.0, 0.0, 0.0, 0.0, 0.0, 0.01, 0.01, 0.01, 0.01, 0.01, 0.01, 0.0, 0.0, 0.0, 0.0, 0.0, 0.0, 0.0, 0.0, 0.0, 0.0, 0.0, 0.0, 0.0, 0.0, 0.0, 0.0, 0.0, 0.0, 0.0, 0.0, 0.0, 0.0, 0.0, 0.0, 0.0, 0.0, 0.0, 0.0, 0.0, 0.0, 0.0, 0.0, 0.0, 0.0, 0, 0, 0, 0, 0, 0, 0, 0, 0, 0, 0, 0, 0, 0, 0, 0, 0, 0, 0, 0, 0, 0, 0, 0]\n",
            "                                                                                                                                                                                                                                          ...                                                                                                                                                                                                                                     \n",
            "632                               [0.0, 0.0, 0.0, 0.0, 0.0, 0.0, 0.0, 0.0, 0.0, 0.0, 0.0, 0.0, 0.0, 0.0, 0.0, 0.0, 0.0, 0.0, 0.0, 0.0, 0.0, 0.0, 0.0, 0.0, 0.0, 0.0, 0.0, 0.0, 0.0, 0.0, 0.0, 0.0, 0.0, 0.0, 0.0, 0.0, 0.0, 0.0, 0.0, 0.0, 0.0, 0.0, 0.0, 0.0, 0.0, 0.0, 0.0, 0.0, 0.0, 0.0, 0.0, 0.0, 0.0, 0.0, 0.0, 0.0, 0.0, 0.0, 0.0, 0.0, 0.0, 0.0, 0.0, 0.0, 0.0, 0.0, 0.0, 0.0, 0.0, 0.0, 0.0, 0.0, 0, 0, 0, 0, 0, 0, 0, 0, 0, 0, 0, 0, 0, 0, 0, 0, 0, 0, 0, 0, 0, 0, 0, 0]\n",
            "633                               [0.0, 0.0, 0.0, 0.0, 0.0, 0.0, 0.0, 0.0, 0.0, 0.0, 0.0, 0.0, 0.0, 0.0, 0.0, 0.0, 0.0, 0.0, 0.0, 0.0, 0.0, 0.0, 0.0, 0.0, 0.0, 0.0, 0.0, 0.0, 0.0, 0.0, 0.0, 0.0, 0.0, 0.0, 0.0, 0.0, 0.0, 0.0, 0.0, 0.0, 0.0, 0.0, 0.0, 0.0, 0.0, 0.0, 0.0, 0.0, 0.0, 0.0, 0.0, 0.0, 0.0, 0.0, 0.0, 0.0, 0.0, 0.0, 0.0, 0.0, 0.0, 0.0, 0.0, 0.0, 0.0, 0.0, 0.0, 0.0, 0.0, 0.0, 0.0, 0.0, 0, 0, 0, 0, 0, 0, 0, 0, 0, 0, 0, 0, 0, 0, 0, 0, 0, 0, 0, 0, 0, 0, 0, 0]\n",
            "634                               [0.0, 0.0, 0.0, 0.0, 0.0, 0.0, 0.0, 0.0, 0.0, 0.0, 0.0, 0.0, 0.0, 0.0, 0.0, 0.0, 0.0, 0.0, 0.0, 0.0, 0.0, 0.0, 0.0, 0.0, 0.0, 0.0, 0.0, 0.0, 0.0, 0.0, 0.0, 0.0, 0.0, 0.0, 0.0, 0.0, 0.0, 0.0, 0.0, 0.0, 0.0, 0.0, 0.0, 0.0, 0.0, 0.0, 0.0, 0.0, 0.0, 0.0, 0.0, 0.0, 0.0, 0.0, 0.0, 0.0, 0.0, 0.0, 0.0, 0.0, 0.0, 0.0, 0.0, 0.0, 0.0, 0.0, 0.0, 0.0, 0.0, 0.0, 0.0, 0.0, 0, 0, 0, 0, 0, 0, 0, 0, 0, 0, 0, 0, 0, 0, 0, 0, 0, 0, 0, 0, 0, 0, 0, 0]\n",
            "635                         [0.0, 0.0, 0.0, 0.0, 0.0, 0.0, 0.0, 0.0, 0.0, 0.0, 0.0, 0.0, 0.0, 0.0, 0.0, 0.0, 0.0, 0.0, 0.0, 0.0, 0.0, 0.0, 0.0, 0.0, 0.0, 0.0, 0.0, 0.0, 0.0, 0.0, 0.0, 0.0, 0.01, 0.01, 0.01, 0.01, 0.01, 0.01, 0.0, 0.0, 0.0, 0.0, 0.0, 0.0, 0.0, 0.0, 0.0, 0.0, 0.0, 0.0, 0.0, 0.0, 0.0, 0.0, 0.0, 0.0, 0.0, 0.0, 0.0, 0.0, 0.0, 0.0, 0.0, 0.0, 0.0, 0.0, 0.0, 0.0, 0.0, 0.0, 0.0, 0.0, 0, 0, 0, 0, 0, 0, 0, 0, 0, 0, 0, 0, 0, 0, 0, 0, 0, 0, 0, 0, 0, 0, 0, 0]\n",
            "636                               [0.0, 0.0, 0.0, 0.0, 0.0, 0.0, 0.0, 0.0, 0.0, 0.0, 0.0, 0.0, 0.0, 0.0, 0.0, 0.0, 0.0, 0.0, 0.0, 0.0, 0.0, 0.0, 0.0, 0.0, 0.0, 0.0, 0.0, 0.0, 0.0, 0.0, 0.0, 0.0, 0.0, 0.0, 0.0, 0.0, 0.0, 0.0, 0.0, 0.0, 0.0, 0.0, 0.0, 0.0, 0.0, 0.0, 0.0, 0.0, 0.0, 0.0, 0.0, 0.0, 0.0, 0.0, 0.0, 0.0, 0.0, 0.0, 0.0, 0.0, 0.0, 0.0, 0.0, 0.0, 0.0, 0.0, 0.0, 0.0, 0.0, 0.0, 0.0, 0.0, 0, 0, 0, 0, 0, 0, 0, 0, 0, 0, 0, 0, 0, 0, 0, 0, 0, 0, 0, 0, 0, 0, 0, 0]\n",
            "Name: Sub6MD, Length: 637, dtype: object\n"
          ]
        }
      ],
      "source": [
        "import asyncio\n",
        "import aiohttp\n",
        "import pandas as pd\n",
        "from concurrent.futures import ThreadPoolExecutor\n",
        "import nest_asyncio\n",
        "nest_asyncio.apply()\n",
        "# EDIT: the __import__ line is not needed, leaving it just \n",
        "# so that the comments make sense\n",
        "# __import__('IPython').embed() \n",
        "\n",
        "## Pulls weather data for the coordinates of each dam @retryURL\n",
        "async def url_to_dataframe(url, session):\n",
        "    async with session.get(url) as response:\n",
        "        data = await response.json()\n",
        "        df = pd.DataFrame(data)\n",
        "        return df\n",
        "\n",
        "# set the API POST endpoint as the target URL\n",
        "weatherURL = \"http://api.weatherapi.com/v1/forecast.json\"\n",
        "# This iteration of the code works for the 6-hr storm.\n",
        "def addPlusSix(row):\n",
        "    return sum(row[0:6])\n",
        "\n",
        "# if the dam data is in excel format:\n",
        "#dams = pd.read_excel(uploaded)\n",
        "# if the dam data is in csv format:\n",
        "dams = pd.read_csv(uploaded)\n",
        "\n",
        "async def process_dam(dam_idx, session):\n",
        "    df = await url_to_dataframe(f\"{weatherURL}?key={apikey}&q={dams['Latitude'][dam_idx]},{dams['Longitude'][dam_idx]}&days=4&aqi=no&alerts=no\", session)\n",
        "    blankData = []\n",
        "    fhr = pd.DataFrame(blankData)\n",
        "\n",
        "    subsequentSixMD = [None] * 96\n",
        "\n",
        "    # Next, pull the hourly data out of the .json\n",
        "    for item in df['forecast']['forecastday']:\n",
        "        fhr = pd.concat([fhr, pd.DataFrame(item['hour'])])\n",
        "\n",
        "    # Add the forecasted rainfall amount for the next 96 hrs\n",
        "    for hours in range(0, 96):\n",
        "        subsequentSixMD[hours] = round(addPlusSix(fhr['precip_in'][hours:hours+6].tolist()),3)\n",
        "   \n",
        "\n",
        "    return subsequentSixMD\n",
        "forcast_date = None\n",
        "async def main():\n",
        "\n",
        "    async with aiohttp.ClientSession() as session:\n",
        "        tasks = [asyncio.create_task(process_dam(dam_idx, session)) for dam_idx in range(len(dams))]\n",
        "        results = await asyncio.gather(*tasks)\n",
        "\n",
        "    # Collect the results\n",
        "    serMD = [result for result in results]\n",
        "\n",
        "    # Assign the results to the dams DataFrame\n",
        "    dams['Sub6MD'] = serMD\n",
        "\n",
        "    print(dams['Sub6MD'])\n",
        "\n",
        "# Run the main function in a separate thread\n",
        "executor = ThreadPoolExecutor(max_workers=1)\n",
        "loop = asyncio.get_event_loop()\n",
        "future = executor.submit(loop.run_until_complete, main())\n",
        "future.result()\n",
        "\n"
      ]
    },
    {
      "cell_type": "code",
      "execution_count": 33,
      "metadata": {
        "id": "Gn-DDRkgrJTd"
      },
      "outputs": [],
      "source": [
        "## Filter so that only the first hourly occurence of rain per dam is maintained\n",
        "def filter_unique_first_values(input_list):\n",
        "    unique_first_values = {}\n",
        "    result = []\n",
        "\n",
        "    for sublist in input_list:\n",
        "        first_value = sublist[0]\n",
        "        if first_value not in unique_first_values:\n",
        "            unique_first_values[first_value] = True\n",
        "            result.append(sublist)\n",
        "\n",
        "    return result"
      ]
    },
    {
      "cell_type": "code",
      "execution_count": 34,
      "metadata": {
        "id": "3PmUYvYQIKQP"
      },
      "outputs": [],
      "source": [
        "## Compare the Sub6 rainfall to the design storm data\n",
        "# Returns the State ID of a dam whose forcasted rain greater than its\n",
        "# design storm and the hour at which that happens for the four days after the script is run.\n",
        "\n",
        "def designExceeded(dams):\n",
        "\n",
        "  highRainDam = []\n",
        "\n",
        "  for dam in range(len(dams)):\n",
        "    for hour in range(len(dams['Sub6MD'][dam])):\n",
        "      # For testing, see if it exceeds 0 to check for any rain. Exceedance of designPrecip is usually None.\n",
        "      if dams['Sub6MD'][dam][hour] > dams['designPrecip'][dam]:\n",
        "        highRainDam.append([(dams.loc[dam]['State ID']), hour])\n",
        "\n",
        "\n",
        "  return highRainDam"
      ]
    },
    {
      "cell_type": "code",
      "execution_count": 35,
      "metadata": {},
      "outputs": [
        {
          "name": "stdout",
          "output_type": "stream",
          "text": [
            "<class 'list'>\n"
          ]
        }
      ],
      "source": [
        "print(type((dams['Sub6MD'][1])))"
      ]
    },
    {
      "cell_type": "code",
      "execution_count": 36,
      "metadata": {
        "id": "Xbx9_Ht7euUF"
      },
      "outputs": [],
      "source": [
        "exceededDams = designExceeded(dams)"
      ]
    },
    {
      "cell_type": "code",
      "execution_count": 37,
      "metadata": {
        "id": "tQouAD16swZ6"
      },
      "outputs": [],
      "source": [
        "## Format time to make it more readable in the email body.\n",
        "from datetime import datetime, timedelta\n",
        "\n",
        "def formatTime(hour):\n",
        "  d = datetime.strptime(str(datetime.now().date()), \"%Y-%m-%d\")\n",
        "\n",
        "  dOffset = timedelta(hours=hour)\n",
        "  new_time = (d + dOffset).strftime(\"%I:%M %p\" \" on %a, %b %d\")\n",
        "  return new_time"
      ]
    },
    {
      "cell_type": "code",
      "execution_count": 38,
      "metadata": {},
      "outputs": [
        {
          "name": "stdout",
          "output_type": "stream",
          "text": [
            "03:00 AM on Tue, Mar 19\n"
          ]
        }
      ],
      "source": [
        "print(formatTime(3))"
      ]
    },
    {
      "cell_type": "code",
      "execution_count": 39,
      "metadata": {
        "id": "tC0hRVciLwr9"
      },
      "outputs": [],
      "source": [
        "## Filter so that only the first hourly occurence of rain per dam per day is maintained\n",
        "def find_first_unique_per_id_blocks(input_list):\n",
        "    # Create a dictionary to store first unique entries per ID\n",
        "    first_unique_entries = {}\n",
        "\n",
        "    # Iterate through the input list\n",
        "    for entry in input_list:\n",
        "        current_id, current_hour = entry\n",
        "\n",
        "        # Calculate the 24-hour block\n",
        "        block = current_hour // 24\n",
        "\n",
        "        # Generate a unique identifier for the entry\n",
        "        entry_identifier = (current_id, block)\n",
        "\n",
        "        # Check if the entry identifier is in the dictionary\n",
        "        if entry_identifier not in first_unique_entries:\n",
        "            first_unique_entries[entry_identifier] = entry\n",
        "        else:\n",
        "            stored_hour = first_unique_entries[entry_identifier][1]\n",
        "            if current_hour < stored_hour:\n",
        "                first_unique_entries[entry_identifier] = entry\n",
        "\n",
        "    return list(first_unique_entries.values())"
      ]
    },
    {
      "cell_type": "code",
      "execution_count": 40,
      "metadata": {
        "id": "TIO9afaiLN06"
      },
      "outputs": [],
      "source": [
        "exceededDams4Days = find_first_unique_per_id_blocks(exceededDams)"
      ]
    },
    {
      "cell_type": "code",
      "execution_count": 41,
      "metadata": {
        "id": "ACfLaPiNJbmw"
      },
      "outputs": [],
      "source": [
        "# RAIN!! Add more rain to the results for testing purposes.\n",
        "\n",
        "#exceededDams4Days.append([8,5])\n",
        "#exceededDams4Days.append([12,92])\n",
        "#print((exceededDams4Days))"
      ]
    },
    {
      "cell_type": "code",
      "execution_count": 42,
      "metadata": {
        "colab": {
          "base_uri": "https://localhost:8080/"
        },
        "id": "5aREy1uMb_Ee",
        "outputId": "f5e7d25a-bc47-48e7-9d34-6b10f2206ffb"
      },
      "outputs": [],
      "source": [
        "## Form the body of the email notification\n",
        "\n",
        "notif_body = []\n",
        "notif_ID = []\n",
        "notifListWeekend_header = []\n",
        "notifListWeekend_footer = []\n",
        "body_df = pd.DataFrame(columns=['msgBody','Dam ID','Inspector Initials', 'County'])\n",
        "\n",
        "# Check to see if any dams will experience rainfall in excess of their design storm.\n",
        "if exceededDams4Days != []:\n",
        "  \n",
        "  # if so, add a warning message (with hmtl formatting)\n",
        "  notifListWeekend_header.append(f\"Weather forecasts indicate heavy rainfall at the following dam(s) exceeding the region's 100-year storm.\")\n",
        "  notifListWeekend_header.append('\\n')\n",
        "  notifListWeekend_header.append(f\"Note, this is not an indication that a dam is near failure; rather, it indicates that increased surveilance is necessary.\")\n",
        "  notifListWeekend_header.append('\\n' '<pre>' '\\n' ) # HTML tag <pre> to preserve whitespace\n",
        "\n",
        "  for entry in exceededDams4Days:\n",
        "    block = entry[1] // 24\n",
        "    damIndex = entry[0]-1\n",
        "\n",
        "    notif_body.append(f'''   MD Dam No. {dams['State ID'][damIndex]}: {dams['Dam Name'][damIndex]}:''')\n",
        "    notif_body.append('\\n')\n",
        "    notif_body.append(f\"     Rainfall totaling {format(max((dams['Sub6MD'][damIndex])[block*24:(block+1)*24]), '.2f')} in. starting at \")\n",
        "    notif_body.append(formatTime(entry[1]))\n",
        "    notif_body.append('\\n' f\"     100-year rainfall {format(dams['designPrecip'][damIndex], '.2f')} in.\")\n",
        "    notif_body.append('\\n' '\\n')\n",
        "\n",
        "    bodyData = {'msgBody' : notif_body, 'Dam ID' : dams['State ID'][damIndex], 'Inspector Initials' : dams['Inspector'][damIndex], 'County' : dams['County'][damIndex]}\n",
        "    body_df.loc[len(body_df)] = pd.Series(bodyData).transpose()\n",
        "    print(body_df)\n",
        "\n",
        "  \n",
        "  notifListWeekend_footer.append('</pre>') # Close HTML, return to normal text\n",
        "  notifListWeekend_footer.append('\\n' 'This is an automated email. For more information, please reach out to Ariel Ben-Sorek of the Dam Safety Permits Division at ariel.ben-sorek@maryland.gov')\n",
        "\n",
        "else:\n",
        "  notifListWeekend_header.append(f'''No high-rainfall events are predicted in the next 96 hours.''')  "
      ]
    },
    {
      "cell_type": "code",
      "execution_count": 43,
      "metadata": {},
      "outputs": [],
      "source": [
        "def series_to_condensed_string(Series):\n",
        "    # Weather alerts in body_df are in a Series, which messes with their formatting.\n",
        "    # Convert them to a string nicely with this function. Check first for None to prevent errors.\n",
        "\n",
        "    if Series.empty:\n",
        "        return\n",
        "    else:\n",
        "        my_list = Series.to_list()\n",
        "        my_list = ''.join(my_list[0])\n",
        "        return my_list\n"
      ]
    },
    {
      "cell_type": "code",
      "execution_count": 44,
      "metadata": {
        "id": "k9iTUqO-yvBA"
      },
      "outputs": [],
      "source": [
        "## Converts strings to html text for email bodies\n",
        "\n",
        "def format_string_as_html(input_string):\n",
        "\n",
        "    if input_string == None:\n",
        "        return\n",
        "    else:\n",
        "        # Replace newline characters with <br> tags\n",
        "        html_content = input_string.replace('\\n', '<br>')\n",
        "\n",
        "        # Wrap the content in HTML tags\n",
        "        formatted_html = f'''<html><body>{html_content}</body></html>'''\n",
        "\n",
        "        return formatted_html"
      ]
    },
    {
      "cell_type": "code",
      "execution_count": 45,
      "metadata": {},
      "outputs": [],
      "source": [
        "## Composes the email message by joining the proper header, body, and footer\n",
        "\n",
        "def composeMessage(notifListWeekend_header, notif, notifListWeekend_footer):\n",
        "    header_str = ''.join(notifListWeekend_header)\n",
        "    body_str = ''.join(notif)\n",
        "    footer_str = ''.join(notifListWeekend_footer)\n",
        "    \n",
        "    msg = header_str + body_str + footer_str\n",
        "    return(msg)"
      ]
    },
    {
      "cell_type": "code",
      "execution_count": 46,
      "metadata": {},
      "outputs": [
        {
          "name": "stdout",
          "output_type": "stream",
          "text": [
            "['ASR', 'WSA', 'ABS', 'SEB', 'HS', 'KRF', 'VPD', 'RCS', 'CHW', 'JTR']\n",
            "  Initials                             Email      Opt-in\n",
            "0      ASR  ariel.ben-sorek+ASR@maryland.gov          no\n",
            "1      WSA  ariel.ben-sorek+WSA@maryland.gov  custom_WSA\n",
            "2      ABS      ariel.ben-sorek@maryland.gov      system\n",
            "3      SEB  ariel.ben-sorek+SEB@maryland.gov          no\n",
            "4       HS   ariel.ben-sorek+HS@maryland.gov         own\n",
            "5      KRF  ariel.ben-sorek+KRF@maryland.gov         own\n",
            "6      VPD  ariel.ben-sorek+VPD@maryland.gov          no\n",
            "7      RCS  ariel.ben-sorek+RCS@maryland.gov         own\n",
            "8      CHW  ariel.ben-sorek+CHW@maryland.gov         all\n",
            "9      JTR  ariel.ben-sorek+JTR@maryland.gov         all\n"
          ]
        }
      ],
      "source": [
        "## Compose email list, called 'notif_by_inspector'\n",
        "\n",
        "# Add inspectors emails by initials in the Master Table\n",
        "# If someone has no dams, add them in manually\n",
        "notif_by_inspector = pd.DataFrame()\n",
        "damlessInitials = ['JTR']\n",
        "inspectorInitials = ((dams['Inspector'].dropna()).unique()).tolist()\n",
        "\n",
        "allInitials = inspectorInitials + damlessInitials\n",
        "notif_by_inspector['Initials'] = allInitials\n",
        "print(allInitials)\n",
        "\n",
        "# Email mapping list\n",
        "# for testing, use this email list. Otherwise, use peoples' real adresses.\n",
        "\n",
        "#email_mapping = [('ABS', 'ariel.ben-sorek@maryland.gov'), ('ASR', 'ariel.ben-sorek@maryland.gov'),('CHW', 'ariel.ben-sorek@maryland.gov'), ('HS', 'ariel.ben-sorek@maryland.gov'), ('JTR', 'ariel.ben-sorek@maryland.gov'), ('KRF', 'ariel.ben-sorek@maryland.gov'), ('RCS', 'ariel.ben-sorek@maryland.gov'), ('SEB', 'ariel.ben-sorek@maryland.gov'), ('VPD', 'ariel.ben-sorek@maryland.gov'), ('WSA', 'ariel.ben-sorek@maryland.gov')]\n",
        "\n",
        "email_mapping = [('ABS', 'ariel.ben-sorek@maryland.gov'), ('ASR', 'ariel.ben-sorek+ASR@maryland.gov'),('CHW', 'ariel.ben-sorek+CHW@maryland.gov'), ('HS', 'ariel.ben-sorek+HS@maryland.gov'), ('JTR', 'ariel.ben-sorek+JTR@maryland.gov'), ('KRF', 'ariel.ben-sorek+KRF@maryland.gov'), ('RCS', 'ariel.ben-sorek+RCS@maryland.gov'), ('SEB', 'ariel.ben-sorek+SEB@maryland.gov'), ('VPD', 'ariel.ben-sorek+VPD@maryland.gov'), ('WSA', 'ariel.ben-sorek+WSA@maryland.gov')]\n",
        "\n",
        "#email_mapping = [('ABS', 'ariel.ben-sorek@maryland.gov'), ('ASR', 'anna.sobilo-ryzner@maryland.gov'),('CHW', 'charles.wallis@maryland.gov'), ('HS', 'hira.shrestha@maryland.gov'), ('JTR', 'john.roche@maryland.gov'), ('KRF', 'kelly.flint@maryland.gov'), ('RCS', 'roxanne.sanderson@maryland.gov'), ('SEB', 'scott.bass@maryland.gov'), ('VPD', 'visty.dalal@maryland.gov'), ('WSA', 'william.ashby@maryland.gov')]\n",
        "\n",
        "# Opt-in list: No emails; Own dams; all dams; or all dams plus system notifications\n",
        "email_optin = [('ABS', 'system'), ('ASR', 'no'),('CHW', 'all'), ('HS', 'own'), ('JTR', 'all'), ('KRF', 'own'), ('RCS', 'own'), ('SEB', 'no'), ('VPD', 'no'), ('WSA', 'custom_WSA')]\n",
        "\n",
        "# Create a dictionary from the email_mapping list\n",
        "email_dict = dict(email_mapping)\n",
        "email_optin_dict = dict(email_optin)\n",
        "\n",
        "# Create a new column 'Email' using .map() based on the 'Initials' column\n",
        "notif_by_inspector['Email'] = notif_by_inspector['Initials'].map(email_dict)\n",
        "notif_by_inspector['Opt-in'] = notif_by_inspector['Initials'].map(email_optin_dict)\n",
        "print(notif_by_inspector)"
      ]
    },
    {
      "cell_type": "code",
      "execution_count": 47,
      "metadata": {},
      "outputs": [],
      "source": [
        "## Determine who wants what kind of email, and compose that email.\n",
        "\n",
        "def compositionCaller(initials):\n",
        "\n",
        "    # Check first if the initials are valid to avoid crashing\n",
        "    opt_series = notif_by_inspector[notif_by_inspector['Initials'] == initials]['Opt-in']\n",
        "    if opt_series.empty:\n",
        "        print(f\"No such inspector {initials}\")\n",
        "        return\n",
        "    \n",
        "    opt_status = notif_by_inspector[notif_by_inspector['Initials'] == initials]['Opt-in'].iloc[0]\n",
        "\n",
        "    if opt_status == 'no':\n",
        "        print(f\"Inspector {initials } opt-in status is 'no'\")\n",
        "        return # Send no email if someone has not opted in\n",
        "        \n",
        "    if opt_status == 'own':\n",
        "        print(f\"Inspector {initials } opt-in status is 'own'\")\n",
        "        if (body_df[body_df['Inspector Initials'] == initials]['msgBody']).empty:\n",
        "            return # Send no email if none of their own dams have exceedences\n",
        "        else:\n",
        "            formatted_body = series_to_condensed_string(body_df[body_df['Inspector Initials'] == initials]['msgBody'])\n",
        "            return composeMessage(notifListWeekend_header, formatted_body, notifListWeekend_footer) # Send if their own dam has exceedences\n",
        "        \n",
        "    if opt_status == 'custom_WSA':\n",
        "        print(f\"Inspector {initials } opt-in status is '{opt_status}'\")\n",
        "        # Bill asked to be notified about his own dams, OR any dams in Western MD counties\n",
        "        custom_WSA_bodies = body_df[(body_df['Inspector Initials'] == initials) | (body_df['County'] == 'Garrett') | (body_df['County'] == 'Allegany')]['msgBody']\n",
        "        if custom_WSA_bodies.empty:\n",
        "            return # Send no email if none of their own dams have exceedences\n",
        "        else:\n",
        "            formatted_body = series_to_condensed_string(custom_WSA_bodies)\n",
        "            return composeMessage(notifListWeekend_header, formatted_body, notifListWeekend_footer) # Send if their own dam has exceedences\n",
        "    \n",
        "\n",
        "    if opt_status == 'all':\n",
        "        print(f\"Inspector {initials } opt-in status is '{opt_status}'\")\n",
        "        if (body_df['msgBody']).empty:\n",
        "            return # Send no email if no dams have exceedences\n",
        "        else:\n",
        "            formatted_body = series_to_condensed_string(body_df['msgBody'])\n",
        "            return composeMessage(notifListWeekend_header, formatted_body, notifListWeekend_footer) # Send if any dams have exceedences  \n",
        "\n",
        "    if opt_status == 'system':\n",
        "        print(f\"Inspector {initials } opt-in status is {opt_status}\")\n",
        "        if (body_df['msgBody']).empty:\n",
        "            print('System user: No high rainfall events.')\n",
        "            return composeMessage(notifListWeekend_header, '', notifListWeekend_footer) # Send 'no exceedences' email\n",
        "        else:\n",
        "            print('System user: high rainfall event(s)')\n",
        "            formatted_body = series_to_condensed_string(body_df['msgBody'])\n",
        "            return composeMessage(notifListWeekend_header, formatted_body, notifListWeekend_footer) # Send if any dams have exceedences\n",
        "    "
      ]
    },
    {
      "cell_type": "code",
      "execution_count": 48,
      "metadata": {
        "id": "UGca3z2y4OSv"
      },
      "outputs": [],
      "source": [
        "## Send the email using OAuth\n",
        "\n",
        "from email.mime.multipart import MIMEMultipart\n",
        "from email.mime.text import MIMEText\n",
        "import base64\n",
        "import os\n",
        "\n",
        "from google.auth.transport.requests import Request\n",
        "from google.oauth2.credentials import Credentials\n",
        "from google_auth_oauthlib.flow import InstalledAppFlow\n",
        "\n",
        "from googleapiclient.discovery import build\n",
        "from googleapiclient.errors import HttpError\n",
        "from google.auth.exceptions import RefreshError\n",
        "\n",
        "\n",
        "\n",
        "SCOPES = ['https://mail.google.com/']\n",
        "creds = None\n",
        "\n",
        "# The file token.json stores the user's access and refresh tokens, and is\n",
        "# created automatically when the authorization flow completes for the first\n",
        "# time.\n",
        "if os.path.exists('token.json'):\n",
        "    creds = Credentials.from_authorized_user_file('token.json', SCOPES)\n",
        "\n",
        "# If there are no (valid) credentials available, let the user log in.\n",
        "if not creds or not creds.valid:\n",
        "    if creds and creds.expired and creds.refresh_token:\n",
        "        try:\n",
        "            creds.refresh(Request())\n",
        "        except RefreshError as e:\n",
        "            # Revoked credentials, handle the error and get new credentials\n",
        "            print(\"Credentials revoked, likely due to password reset.\")\n",
        "            os.remove('token.json')\n",
        "            flow = InstalledAppFlow.from_client_secrets_file('credentials.json', SCOPES)\n",
        "            creds = flow.run_local_server(port=0)\n",
        "    else:\n",
        "        flow = InstalledAppFlow.from_client_secrets_file('credentials.json', SCOPES)\n",
        "        creds = flow.run_local_server(port=0)\n",
        "\n",
        "    # Save the credentials for the next run\n",
        "    with open('token.json', 'w') as token:\n",
        "        token.write(creds.to_json())\n",
        "\n",
        "def gmail_send_message(html_content, receiver):\n",
        "\n",
        "    try:\n",
        "        service = build('gmail', 'v1', credentials=creds)\n",
        "        message = MIMEMultipart(\"alternative\")\n",
        "\n",
        "\n",
        "        message['To'] = receiver\n",
        "        message['From'] = 'ariel.ben-sorek@maryland.gov'\n",
        "        \n",
        "        if exceededDams4Days != []:\n",
        "            message['Subject'] = \"Maryland Dam Safety Weather Alert\"\n",
        "        \n",
        "        else:\n",
        "            message['Subject'] = \"Maryland Dam Safety: No severe weather predicted\"\n",
        "\n",
        "\n",
        "        html_part = MIMEText(html_content, \"html\")\n",
        "        message.attach(html_part)  \n",
        "\n",
        "        # encoded message\n",
        "        encoded_message = base64.urlsafe_b64encode(message.as_bytes()) \\\n",
        "            .decode()\n",
        "\n",
        "        create_message = {\n",
        "            'raw': encoded_message\n",
        "        }\n",
        "        # pylint: disable=E1101\n",
        "        send_message = (service.users().messages().send\n",
        "                        (userId=\"me\", body=create_message).execute())\n",
        "        print(F'Message Id: {send_message[\"id\"]}')\n",
        "    except HttpError as error:\n",
        "        print(F'An error occurred: {error}')\n",
        "        send_message = None\n",
        "    return send_message \n",
        "      \n",
        "    "
      ]
    },
    {
      "cell_type": "code",
      "execution_count": 49,
      "metadata": {},
      "outputs": [],
      "source": [
        "## Send emails to one inspector\n",
        "@retryURL\n",
        "def email_one_inspector(initials):\n",
        "    text = compositionCaller(initials)\n",
        "    email_date = datetime.now().strftime(\"%B %d, %Y\")\n",
        "    inspector_opt = notif_by_inspector[notif_by_inspector['Initials'] == initials]['Opt-in'].iloc[0]\n",
        "    inspector_email = (notif_by_inspector[notif_by_inspector['Initials'] == initials]['Email']).iloc[0]\n",
        "\n",
        "    if inspector_opt == 'none':\n",
        "        print(f'{initials} has not opted-in. No email will be sent.')\n",
        "    \n",
        "    elif text == None and inspector_opt != 'system':\n",
        "        print(f'No exceedences at dams for inspector {initials}. No email will be sent.')\n",
        "  \n",
        "    else:\n",
        "\n",
        "        html = f\"\"\"\\\n",
        "        <p> <img src=\"https://mde.maryland.gov/Style%20Library/egov/img/agencyLogo-generic.png\" alt = \"Maryland Department of the Environment\"  style=\"width:62px;height:64px;margin-right: 15px;float: left;\">\n",
        "\n",
        "        <h1 style=\"line-height:1.2;font-family:helvetica;font-size:25px;margin:0px 0px 0px;\">Maryland Dam Safety Weather Alert</h1>\n",
        "        </p>\n",
        "\n",
        "        <h2 style=\"line-height:0.1;font-family:helvetica;font-size:15px;margin:0px 0px 0px;\">{email_date}</h2>\n",
        "        </p>\n",
        "        <br>\n",
        "        <p style=\"line-height:1.4;font-family:helvetica;\">{format_string_as_html(text)}</p>\n",
        "        \"\"\"\n",
        "\n",
        "        gmail_send_message(html, inspector_email)"
      ]
    },
    {
      "cell_type": "code",
      "execution_count": 50,
      "metadata": {},
      "outputs": [],
      "source": [
        "## Email everyone by looping `email_one_inspector` over all inspectors\n",
        "\n",
        "def email_Everyone():\n",
        "    for entry in notif_by_inspector['Initials']:\n",
        "        print(entry)\n",
        "        email_one_inspector(entry)"
      ]
    },
    {
      "cell_type": "code",
      "execution_count": 51,
      "metadata": {},
      "outputs": [
        {
          "name": "stdout",
          "output_type": "stream",
          "text": [
            "ASR\n",
            "Running\n",
            "Inspector ASR opt-in status is 'no'\n",
            "No exceedences at dams for inspector ASR. No email will be sent.\n",
            "WSA\n",
            "Running\n",
            "Inspector WSA opt-in status is 'custom_WSA'\n",
            "No exceedences at dams for inspector WSA. No email will be sent.\n",
            "ABS\n",
            "Running\n",
            "Inspector ABS opt-in status is system\n",
            "System user: No high rainfall events.\n"
          ]
        },
        {
          "name": "stdout",
          "output_type": "stream",
          "text": [
            "Message Id: 18e5721f42857ccf\n",
            "SEB\n",
            "Running\n",
            "Inspector SEB opt-in status is 'no'\n",
            "No exceedences at dams for inspector SEB. No email will be sent.\n",
            "HS\n",
            "Running\n",
            "Inspector HS opt-in status is 'own'\n",
            "No exceedences at dams for inspector HS. No email will be sent.\n",
            "KRF\n",
            "Running\n",
            "Inspector KRF opt-in status is 'own'\n",
            "No exceedences at dams for inspector KRF. No email will be sent.\n",
            "VPD\n",
            "Running\n",
            "Inspector VPD opt-in status is 'no'\n",
            "No exceedences at dams for inspector VPD. No email will be sent.\n",
            "RCS\n",
            "Running\n",
            "Inspector RCS opt-in status is 'own'\n",
            "No exceedences at dams for inspector RCS. No email will be sent.\n",
            "CHW\n",
            "Running\n",
            "Inspector CHW opt-in status is 'all'\n",
            "No exceedences at dams for inspector CHW. No email will be sent.\n",
            "JTR\n",
            "Running\n",
            "Inspector JTR opt-in status is 'all'\n",
            "No exceedences at dams for inspector JTR. No email will be sent.\n"
          ]
        }
      ],
      "source": [
        "email_Everyone()"
      ]
    },
    {
      "cell_type": "code",
      "execution_count": 52,
      "metadata": {},
      "outputs": [],
      "source": [
        "## Counting rainfall above threshold\n",
        "\n",
        "#threshold = 0.03 #inches of rain\n",
        "#def has_over_threshold(lst):\n",
        "#    return any(x >= threshold for x in lst)\n",
        "\n",
        "#over_threshold_count = dams['Sub6MD'].apply(lambda x: sum(1 for val in x if val >= threshold)).sum()\n",
        "#total_entries = dams['Sub6MD'].apply(len).sum()\n",
        "#print(\"Number of entries with nonzero values:\", over_threshold_count, \"or \", over_threshold_count/total_entries*100, \" percent.\")\n",
        "\n",
        "#over_threshold_lists = dams[dams['Sub6MD'].apply(has_over_threshold)]\n",
        "#display(over_threshold_lists)\n",
        "\n"
      ]
    }
  ],
  "metadata": {
    "colab": {
      "provenance": []
    },
    "kernelspec": {
      "display_name": "Python 3",
      "name": "python3"
    },
    "language_info": {
      "codemirror_mode": {
        "name": "ipython",
        "version": 3
      },
      "file_extension": ".py",
      "mimetype": "text/x-python",
      "name": "python",
      "nbconvert_exporter": "python",
      "pygments_lexer": "ipython3",
      "version": "3.11.8"
    }
  },
  "nbformat": 4,
  "nbformat_minor": 0
}
