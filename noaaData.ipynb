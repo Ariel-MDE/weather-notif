{
 "cells": [
  {
   "cell_type": "markdown",
   "metadata": {
    "id": "jCvic_WhmYJ1"
   },
   "source": [
    "# Maryland Dam Design Storm Data"
   ]
  },
  {
   "cell_type": "markdown",
   "metadata": {
    "id": "bCfE28VxI6qZ"
   },
   "source": [
    "Version 2.0\n",
    "March 18, 2024\n",
    "Async enabled\n",
    "\n",
    "1. Export the Dams Master Table as `.xlsx`, then upload it here.\n",
    "2. Specify a design storm for each dam as desired. If not, it will default to the 6-hour, 100-year storm.\n",
    "3. This program will pull Atlas-14 rainfall in inches for each dam, and save it to a `.csv` file.\n",
    "\n",
    "Notes:\n",
    "\n",
    "1. Confirm all dams in the Master Table have a `'Latitude'` and `'Longitude'` value\n",
    "2. Once you receive the outputted `.csv`, rename and/or download it to prevent its getting overwritten on the next run."
   ]
  },
  {
   "cell_type": "code",
   "execution_count": 1,
   "metadata": {
    "execution": {
     "iopub.execute_input": "2024-03-19T01:07:03.538339Z",
     "iopub.status.busy": "2024-03-19T01:07:03.538339Z",
     "iopub.status.idle": "2024-03-19T01:07:04.699545Z",
     "shell.execute_reply": "2024-03-19T01:07:04.699545Z"
    }
   },
   "outputs": [],
   "source": [
    "import datetime as dt\n",
    "import pytz\n",
    "import requests\n",
    "import matplotlib.pyplot as plt\n",
    "import pandas as pd\n",
    "import json\n",
    "import requests\n",
    "import re\n",
    "import requests\n",
    "from requests.packages import urllib3\n",
    "urllib3.disable_warnings(urllib3.exceptions.InsecureRequestWarning)"
   ]
  },
  {
   "cell_type": "code",
   "execution_count": 2,
   "metadata": {
    "execution": {
     "iopub.execute_input": "2024-03-19T01:07:04.699545Z",
     "iopub.status.busy": "2024-03-19T01:07:04.699545Z",
     "iopub.status.idle": "2024-03-19T01:07:05.920454Z",
     "shell.execute_reply": "2024-03-19T01:07:05.920454Z"
    },
    "id": "6Vpk-7jTXkWj"
   },
   "outputs": [],
   "source": [
    "# Here is where you put the filepath of the Dams Master Table!\n",
    "uploaded = \"C:/Users/aben-sorek/Desktop/weather code/Dams Master Table.xlsx\"\n",
    "damsMasterTable = pd.read_excel(uploaded)"
   ]
  },
  {
   "cell_type": "code",
   "execution_count": 3,
   "metadata": {
    "execution": {
     "iopub.execute_input": "2024-03-19T01:07:05.920454Z",
     "iopub.status.busy": "2024-03-19T01:07:05.920454Z",
     "iopub.status.idle": "2024-03-19T01:07:06.696787Z",
     "shell.execute_reply": "2024-03-19T01:07:06.696787Z"
    },
    "id": "9UojykodKpVH"
   },
   "outputs": [],
   "source": [
    "# Create a dataframe with the Excel data\n",
    "dams = pd.read_excel(uploaded)\n",
    "\n",
    "# Any dam without a Design Storm Duration or Interval will be assigned the defaults here\n",
    "dams['Duration'] = '6-hr'\n",
    "dams['Interval'] = '100'"
   ]
  },
  {
   "cell_type": "code",
   "execution_count": 4,
   "metadata": {
    "execution": {
     "iopub.execute_input": "2024-03-19T01:07:06.696787Z",
     "iopub.status.busy": "2024-03-19T01:07:06.696787Z",
     "iopub.status.idle": "2024-03-19T01:07:06.703600Z",
     "shell.execute_reply": "2024-03-19T01:07:06.703600Z"
    },
    "id": "Suy78pTKpAng"
   },
   "outputs": [],
   "source": [
    "# This test code was used during development.\n",
    "# If you want to test the code without using an .xlsx, use this cell rather than\n",
    "# the preceding cell.\n",
    "\n",
    "#dnames = ['Blue','Yellow','Red']\n",
    "#dDesignStorms = [100,100,1000]\n",
    "#dCoordinates = [[39,-76],[38,-77],[37,-78]]\n",
    "#dStormDuration = ['6-hr','6-hr','6-hr']\n",
    "#dStormInterval = ['100','100','100']\n",
    "\n",
    "#data = {'Name':dnames,'Coordinates':dCoordinates, 'Duration':dStormDuration, 'Interval':dStormInterval}"
   ]
  },
  {
   "cell_type": "code",
   "execution_count": 5,
   "metadata": {
    "execution": {
     "iopub.execute_input": "2024-03-19T01:07:06.703600Z",
     "iopub.status.busy": "2024-03-19T01:07:06.703600Z",
     "iopub.status.idle": "2024-03-19T01:07:06.714306Z",
     "shell.execute_reply": "2024-03-19T01:07:06.714306Z"
    },
    "id": "PTkrg8g1vMJn"
   },
   "outputs": [],
   "source": [
    "def create_dataframe_from_NOAAstring(data_string):\n",
    "    pd.options.mode.chained_assignment = None\n",
    "    lines = data_string.strip().split('\\n')\n",
    "    data = [line.split(',') for line in lines]\n",
    "\n",
    "    # As of August 2023, cleaning NOAA data means: removing extraneous\n",
    "    # rows from the top and bottom; removing some characters from\n",
    "    # the start and end of the first and last cells, respectively; removing any\n",
    "    # remaining square brackets; and renaming the row and column headers.\n",
    "    df = pd.DataFrame(data)\n",
    "    df2 = df.head(-17)\n",
    "    df3 = df2.tail(-1)\n",
    "    df3[df3.columns[-1]] = (df3[df3.columns[-1]].str[:-2])\n",
    "    df3[df3.columns[0]] = (df3[df3.columns[0]].str[13:])\n",
    "\n",
    "    # The data is now all in one row. Rework it into rows and columns\n",
    "    data_string = df3.to_string(header=False, index=False, index_names=False)\n",
    "\n",
    "    # Extract individual arrays using regex\n",
    "    arrays = re.findall(r'\\[.*?\\]', data_string)\n",
    "\n",
    "    # Remove whitespace and quotes, and split each array into a list\n",
    "    data_list = [array.replace(\"'\", \"\").split() for array in arrays]\n",
    "\n",
    "    # Create a Pandas DataFrame from the list of lists\n",
    "    df4 = pd.DataFrame(data_list)\n",
    "\n",
    "    # Remove the '[' and ']' characters from the dataframe\n",
    "    df5 = df4.applymap(lambda x: x.replace(\"[\", \"\").replace(\"]\", \"\"))\n",
    "    df5.columns=['1','2','5','10','25','50','100','200','500','1000']\n",
    "    df5.index=['5-min','10-min','15-min','30-min','60-min','2-hr','3-hr','6-hr','12-hr','24-hr','2-day','3-day','4-day','7-day','10-day','20-day','30-day','45-day','60-day']\n",
    "\n",
    "    return df5\n",
    "\n",
    "if __name__ == \"__main__\":\n",
    "    input_data = \"\"\"\n",
    "    Value1,Value2,Value3\n",
    "    1,2,3\n",
    "    4,5,6\n",
    "    7,8,9\n",
    "    \"\"\""
   ]
  },
  {
   "cell_type": "code",
   "execution_count": 6,
   "metadata": {
    "colab": {
     "base_uri": "https://localhost:8080/",
     "height": 477
    },
    "execution": {
     "iopub.execute_input": "2024-03-19T01:07:06.714306Z",
     "iopub.status.busy": "2024-03-19T01:07:06.714306Z",
     "iopub.status.idle": "2024-03-19T01:08:21.958688Z",
     "shell.execute_reply": "2024-03-19T01:08:21.957625Z"
    },
    "id": "lRgJqpj7Jlwy",
    "outputId": "9709ddbc-b147-4171-be6c-8881fe57fbbf"
   },
   "outputs": [
    {
     "name": "stdout",
     "output_type": "stream",
     "text": [
      "Dam 1 of 638. 0.16% completed.\n",
      "Dam 5 of 638. 0.78% completed.\n"
     ]
    },
    {
     "name": "stdout",
     "output_type": "stream",
     "text": [
      "Dam 10 of 638. 1.57% completed.\n",
      "Dam 15 of 638. 2.35% completed.\n",
      "Dam 20 of 638. 3.13% completed.\n"
     ]
    },
    {
     "name": "stdout",
     "output_type": "stream",
     "text": [
      "Dam 25 of 638. 3.92% completed.\n",
      "Dam 30 of 638. 4.7% completed.\n"
     ]
    },
    {
     "name": "stdout",
     "output_type": "stream",
     "text": [
      "Dam 35 of 638. 5.49% completed.\n",
      "Dam 40 of 638. 6.27% completed.\n",
      "Dam 45 of 638. 7.05% completed.\n",
      "Dam 50 of 638. 7.84% completed.\n"
     ]
    },
    {
     "name": "stdout",
     "output_type": "stream",
     "text": [
      "Dam 55 of 638. 8.62% completed.\n",
      "Dam 60 of 638. 9.4% completed.\n",
      "Dam 65 of 638. 10.19% completed.\n"
     ]
    },
    {
     "name": "stdout",
     "output_type": "stream",
     "text": [
      "Dam 70 of 638. 10.97% completed.\n",
      "Dam 75 of 638. 11.76% completed.\n"
     ]
    },
    {
     "name": "stdout",
     "output_type": "stream",
     "text": [
      "Dam 80 of 638. 12.54% completed.\n",
      "Dam 85 of 638. 13.32% completed.\n",
      "Dam 90 of 638. 14.11% completed.\n"
     ]
    },
    {
     "name": "stdout",
     "output_type": "stream",
     "text": [
      "Dam 95 of 638. 14.89% completed.\n",
      "Dam 100 of 638. 15.67% completed.\n"
     ]
    },
    {
     "name": "stdout",
     "output_type": "stream",
     "text": [
      "Dam 105 of 638. 16.46% completed.\n",
      "Dam 110 of 638. 17.24% completed.\n"
     ]
    },
    {
     "name": "stdout",
     "output_type": "stream",
     "text": [
      "Dam 115 of 638. 18.03% completed.\n",
      "Dam 120 of 638. 18.81% completed.\n"
     ]
    },
    {
     "name": "stdout",
     "output_type": "stream",
     "text": [
      "Dam 125 of 638. 19.59% completed.\n",
      "Dam 130 of 638. 20.38% completed.\n"
     ]
    },
    {
     "name": "stdout",
     "output_type": "stream",
     "text": [
      "Dam 135 of 638. 21.16% completed.\n",
      "Dam 140 of 638. 21.94% completed.\n"
     ]
    },
    {
     "name": "stdout",
     "output_type": "stream",
     "text": [
      "Dam 145 of 638. 22.73% completed.\n",
      "Dam 150 of 638. 23.51% completed.\n"
     ]
    },
    {
     "name": "stdout",
     "output_type": "stream",
     "text": [
      "Dam 155 of 638. 24.29% completed.\n",
      "Dam 160 of 638. 25.08% completed.\n"
     ]
    },
    {
     "name": "stdout",
     "output_type": "stream",
     "text": [
      "Dam 165 of 638. 25.86% completed.\n",
      "Dam 170 of 638. 26.65% completed.\n"
     ]
    },
    {
     "name": "stdout",
     "output_type": "stream",
     "text": [
      "Dam 175 of 638. 27.43% completed.\n",
      "Dam 180 of 638. 28.21% completed.\n"
     ]
    },
    {
     "name": "stdout",
     "output_type": "stream",
     "text": [
      "Dam 185 of 638. 29.0% completed.\n",
      "Dam 190 of 638. 29.78% completed.\n"
     ]
    },
    {
     "name": "stdout",
     "output_type": "stream",
     "text": [
      "Dam 195 of 638. 30.56% completed.\n",
      "Dam 200 of 638. 31.35% completed.\n"
     ]
    },
    {
     "name": "stdout",
     "output_type": "stream",
     "text": [
      "Dam 205 of 638. 32.13% completed.\n",
      "Dam 210 of 638. 32.92% completed.\n"
     ]
    },
    {
     "name": "stdout",
     "output_type": "stream",
     "text": [
      "Dam 215 of 638. 33.7% completed.\n",
      "Dam 220 of 638. 34.48% completed.\n"
     ]
    },
    {
     "name": "stdout",
     "output_type": "stream",
     "text": [
      "Dam 225 of 638. 35.27% completed.\n",
      "Dam 230 of 638. 36.05% completed.\n"
     ]
    },
    {
     "name": "stdout",
     "output_type": "stream",
     "text": [
      "Dam 235 of 638. 36.83% completed.\n",
      "Dam 240 of 638. 37.62% completed.\n"
     ]
    },
    {
     "name": "stdout",
     "output_type": "stream",
     "text": [
      "Dam 245 of 638. 38.4% completed.\n",
      "Dam 250 of 638. 39.18% completed.\n"
     ]
    },
    {
     "name": "stdout",
     "output_type": "stream",
     "text": [
      "Dam 255 of 638. 39.97% completed.\n",
      "Dam 260 of 638. 40.75% completed.\n"
     ]
    },
    {
     "name": "stdout",
     "output_type": "stream",
     "text": [
      "Dam 265 of 638. 41.54% completed.\n",
      "Dam 270 of 638. 42.32% completed.\n",
      "Dam 275 of 638. 43.1% completed.\n"
     ]
    },
    {
     "name": "stdout",
     "output_type": "stream",
     "text": [
      "Dam 280 of 638. 43.89% completed.\n",
      "Dam 285 of 638. 44.67% completed.\n"
     ]
    },
    {
     "name": "stdout",
     "output_type": "stream",
     "text": [
      "Dam 290 of 638. 45.45% completed.\n",
      "Dam 295 of 638. 46.24% completed.\n"
     ]
    },
    {
     "name": "stdout",
     "output_type": "stream",
     "text": [
      "Dam 300 of 638. 47.02% completed.\n",
      "Dam 305 of 638. 47.81% completed.\n"
     ]
    },
    {
     "name": "stdout",
     "output_type": "stream",
     "text": [
      "Dam 310 of 638. 48.59% completed.\n",
      "Dam 315 of 638. 49.37% completed.\n"
     ]
    },
    {
     "name": "stdout",
     "output_type": "stream",
     "text": [
      "Dam 320 of 638. 50.16% completed.\n",
      "Dam 325 of 638. 50.94% completed.\n",
      "Dam 330 of 638. 51.72% completed.\n"
     ]
    },
    {
     "name": "stdout",
     "output_type": "stream",
     "text": [
      "Dam 335 of 638. 52.51% completed.\n",
      "Dam 340 of 638. 53.29% completed.\n"
     ]
    },
    {
     "name": "stdout",
     "output_type": "stream",
     "text": [
      "Dam 345 of 638. 54.08% completed.\n",
      "Dam 350 of 638. 54.86% completed.\n"
     ]
    },
    {
     "name": "stdout",
     "output_type": "stream",
     "text": [
      "Dam 355 of 638. 55.64% completed.\n",
      "Dam 360 of 638. 56.43% completed.\n"
     ]
    },
    {
     "name": "stdout",
     "output_type": "stream",
     "text": [
      "Dam 365 of 638. 57.21% completed.\n",
      "Dam 370 of 638. 57.99% completed.\n"
     ]
    },
    {
     "name": "stdout",
     "output_type": "stream",
     "text": [
      "Dam 375 of 638. 58.78% completed.\n",
      "Dam 380 of 638. 59.56% completed.\n",
      "Dam 385 of 638. 60.34% completed.\n"
     ]
    },
    {
     "name": "stdout",
     "output_type": "stream",
     "text": [
      "Dam 390 of 638. 61.13% completed.\n",
      "Dam 395 of 638. 61.91% completed.\n",
      "Dam 400 of 638. 62.7% completed.\n"
     ]
    },
    {
     "name": "stdout",
     "output_type": "stream",
     "text": [
      "Dam 405 of 638. 63.48% completed.\n",
      "Dam 410 of 638. 64.26% completed.\n"
     ]
    },
    {
     "name": "stdout",
     "output_type": "stream",
     "text": [
      "Dam 415 of 638. 65.05% completed.\n",
      "Dam 420 of 638. 65.83% completed.\n"
     ]
    },
    {
     "name": "stdout",
     "output_type": "stream",
     "text": [
      "Dam 425 of 638. 66.61% completed.\n",
      "Dam 430 of 638. 67.4% completed.\n",
      "Dam 435 of 638. 68.18% completed.\n"
     ]
    },
    {
     "name": "stdout",
     "output_type": "stream",
     "text": [
      "Dam 440 of 638. 68.97% completed.\n",
      "Dam 445 of 638. 69.75% completed.\n"
     ]
    },
    {
     "name": "stdout",
     "output_type": "stream",
     "text": [
      "Dam 450 of 638. 70.53% completed.\n",
      "Dam 455 of 638. 71.32% completed.\n"
     ]
    },
    {
     "name": "stdout",
     "output_type": "stream",
     "text": [
      "Dam 460 of 638. 72.1% completed.\n",
      "Dam 465 of 638. 72.88% completed.\n"
     ]
    },
    {
     "name": "stdout",
     "output_type": "stream",
     "text": [
      "Dam 470 of 638. 73.67% completed.\n",
      "Dam 475 of 638. 74.45% completed.\n",
      "Dam 480 of 638. 75.24% completed.\n"
     ]
    },
    {
     "name": "stdout",
     "output_type": "stream",
     "text": [
      "Dam 485 of 638. 76.02% completed.\n",
      "Dam 490 of 638. 76.8% completed.\n",
      "Dam 495 of 638. 77.59% completed.\n"
     ]
    },
    {
     "name": "stdout",
     "output_type": "stream",
     "text": [
      "Dam 500 of 638. 78.37% completed.\n",
      "Dam 505 of 638. 79.15% completed.\n"
     ]
    },
    {
     "name": "stdout",
     "output_type": "stream",
     "text": [
      "Dam 510 of 638. 79.94% completed.\n",
      "Dam 515 of 638. 80.72% completed.\n",
      "Dam 520 of 638. 81.5% completed.\n"
     ]
    },
    {
     "name": "stdout",
     "output_type": "stream",
     "text": [
      "Dam 525 of 638. 82.29% completed.\n",
      "Dam 530 of 638. 83.07% completed.\n",
      "Dam 535 of 638. 83.86% completed.\n"
     ]
    },
    {
     "name": "stdout",
     "output_type": "stream",
     "text": [
      "Dam 540 of 638. 84.64% completed.\n",
      "Dam 545 of 638. 85.42% completed.\n"
     ]
    },
    {
     "name": "stdout",
     "output_type": "stream",
     "text": [
      "Dam 550 of 638. 86.21% completed.\n",
      "Dam 555 of 638. 86.99% completed.\n"
     ]
    },
    {
     "name": "stdout",
     "output_type": "stream",
     "text": [
      "Dam 560 of 638. 87.77% completed.\n",
      "Dam 565 of 638. 88.56% completed.\n"
     ]
    },
    {
     "name": "stdout",
     "output_type": "stream",
     "text": [
      "Dam 570 of 638. 89.34% completed.\n",
      "Dam 575 of 638. 90.13% completed.\n"
     ]
    },
    {
     "name": "stdout",
     "output_type": "stream",
     "text": [
      "Dam 580 of 638. 90.91% completed.\n",
      "Dam 585 of 638. 91.69% completed.\n",
      "Dam 590 of 638. 92.48% completed.\n"
     ]
    },
    {
     "name": "stdout",
     "output_type": "stream",
     "text": [
      "Dam 595 of 638. 93.26% completed.\n",
      "Dam 600 of 638. 94.04% completed.\n"
     ]
    },
    {
     "name": "stdout",
     "output_type": "stream",
     "text": [
      "Dam 605 of 638. 94.83% completed.\n",
      "Dam 610 of 638. 95.61% completed.\n",
      "Dam 615 of 638. 96.39% completed.\n"
     ]
    },
    {
     "name": "stdout",
     "output_type": "stream",
     "text": [
      "Dam 620 of 638. 97.18% completed.\n",
      "Dam 625 of 638. 97.96% completed.\n"
     ]
    },
    {
     "name": "stdout",
     "output_type": "stream",
     "text": [
      "Dam 630 of 638. 98.75% completed.\n",
      "Dam 635 of 638. 99.53% completed.\n",
      "    Inspector Staff_2021 Staff_2019 Staff_2017  Entered ETS FY24  \\\n",
      "0         ASR        ASR        ASR        ASR             False   \n",
      "1         ASR        ASR        ASR        ASR             False   \n",
      "2         ASR        ASR        ASR        ASR             False   \n",
      "3         WSA        SEB        SEB        BWH             False   \n",
      "4         ASR        ASR        SEB        HVA             False   \n",
      "..        ...        ...        ...        ...               ...   \n",
      "632       VPD        KRF        NaN        NaN             False   \n",
      "633       ASR        NaN        NaN        NaN             False   \n",
      "634       NaN        NaN        NaN        NaN             False   \n",
      "635       SEB        NaN        NaN        NaN             False   \n",
      "636       SEB        NaN        NaN        NaN             False   \n",
      "\n",
      "     Entered ETS FY23  TEMPO FY22  Entered TEMPO FY21  Entered TEMPO FY20  \\\n",
      "0               False       False               False               False   \n",
      "1               False       False               False               False   \n",
      "2               False       False               False               False   \n",
      "3               False       False               False               False   \n",
      "4               False       False               False               False   \n",
      "..                ...         ...                 ...                 ...   \n",
      "632             False       False               False               False   \n",
      "633             False       False               False               False   \n",
      "634             False       False               False               False   \n",
      "635             False       False               False               False   \n",
      "636             False       False               False               False   \n",
      "\n",
      "     Entered TEMPO FY19  ...  Federal Agency Involvement in Regulatory  \\\n",
      "0                 False  ...                                       NaN   \n",
      "1                 False  ...                                       NaN   \n",
      "2                 False  ...                                       NaN   \n",
      "3                 False  ...                                       NaN   \n",
      "4                 False  ...                                       NaN   \n",
      "..                  ...  ...                                       ...   \n",
      "632               False  ...                                       NaN   \n",
      "633               False  ...                                       NaN   \n",
      "634               False  ...                                       NaN   \n",
      "635               False  ...                                       NaN   \n",
      "636               False  ...                                       NaN   \n",
      "\n",
      "     Federal Agency Involvement in Inspection  \\\n",
      "0                                         NaN   \n",
      "1                                         NaN   \n",
      "2                                         NaN   \n",
      "3                                         NaN   \n",
      "4                                         NaN   \n",
      "..                                        ...   \n",
      "632                                       NaN   \n",
      "633                                       NaN   \n",
      "634                                       NaN   \n",
      "635                                       NaN   \n",
      "636                                       NaN   \n",
      "\n",
      "     Federal Agency Involvement in Operation  Federal Agency Owner  \\\n",
      "0                                        NaN                   NaN   \n",
      "1                                        NaN                   NaN   \n",
      "2                                        NaN                   NaN   \n",
      "3                                        NaN                   NaN   \n",
      "4                                        NaN                   NaN   \n",
      "..                                       ...                   ...   \n",
      "632                                      NaN                   NaN   \n",
      "633                                      NaN                   NaN   \n",
      "634                                      NaN                   NaN   \n",
      "635                                      NaN                   NaN   \n",
      "636                                      NaN                   NaN   \n",
      "\n",
      "     Federal Agency Involvement - Other      Owner Type State  Duration  \\\n",
      "0                                   NaN          County    MD      6-hr   \n",
      "1                                   NaN          County    MD      6-hr   \n",
      "2                                   NaN          County    MD      6-hr   \n",
      "3                                   NaN         Private    MD      6-hr   \n",
      "4                                   NaN  Public Utility    MD      6-hr   \n",
      "..                                  ...             ...   ...       ...   \n",
      "632                                 NaN           State    MD      6-hr   \n",
      "633                                 NaN         Private   NaN      6-hr   \n",
      "634                                 NaN             NaN   NaN      6-hr   \n",
      "635                                 NaN          County   NaN      6-hr   \n",
      "636                                 NaN          County   NaN      6-hr   \n",
      "\n",
      "     Interval designPrecip  \n",
      "0         100         5.46  \n",
      "1         100         5.64  \n",
      "2         100         5.39  \n",
      "3         100         3.83  \n",
      "4         100         5.41  \n",
      "..        ...          ...  \n",
      "632       100         5.56  \n",
      "633       100         5.34  \n",
      "634       100         5.42  \n",
      "635       100         5.39  \n",
      "636       100         5.41  \n",
      "\n",
      "[637 rows x 141 columns]\n"
     ]
    }
   ],
   "source": [
    "import aiohttp\n",
    "import asyncio\n",
    "from pandas import DataFrame\n",
    "\n",
    "async def fetch_data(session, atlasURL, dams, dam):\n",
    "    url = f\"{atlasURL}?lat={dams['Latitude'][dam]}&lon={dams['Longitude'][dam]}&type=pf&data=depth&units=english&series=pds\"\n",
    "    async with session.get(url, ssl=False) as response:\n",
    "        return await response.text()\n",
    "\n",
    "async def fetch_all_data(atlasURL, dams):\n",
    "    tasks = []\n",
    "    async with aiohttp.ClientSession() as session:\n",
    "        for dam in range(len(dams)):\n",
    "            task = asyncio.create_task(fetch_data(session, atlasURL, dams, dam))\n",
    "            tasks.append(task)\n",
    "        responses = await asyncio.gather(*tasks)\n",
    "        return responses\n",
    "\n",
    "async def main():\n",
    "    atlasURL = 'https://hdsc.nws.noaa.gov/cgi-bin/hdsc/new/cgi_readH5.py'\n",
    "    responses = await fetch_all_data(atlasURL, dams)\n",
    "\n",
    "    ser = []\n",
    "    for dam, response in enumerate(responses):\n",
    "        ser.append(create_dataframe_from_NOAAstring(response).loc[dams.loc[dam, 'Duration'], dams.loc[dam, 'Interval']])\n",
    "        if (dam + 1) % 5 == 0 or dam == 0 or dam == len(dams):\n",
    "            print(f'Dam {dam + 1} of {len(dams) + 1}. {round((dam + 1) / (len(dams) + 1) * 100, 2)}% completed.')\n",
    "\n",
    "    dams['designPrecip'] = ser\n",
    "    return dams  # Return the modified DataFrame\n",
    "\n",
    "# Run the event loop in the Jupyter environment\n",
    "dams_with_design_precip = await main()\n",
    "print(dams_with_design_precip)"
   ]
  },
  {
   "cell_type": "code",
   "execution_count": 7,
   "metadata": {
    "colab": {
     "base_uri": "https://localhost:8080/"
    },
    "execution": {
     "iopub.execute_input": "2024-03-19T01:08:21.961027Z",
     "iopub.status.busy": "2024-03-19T01:08:21.961027Z",
     "iopub.status.idle": "2024-03-19T01:08:21.978278Z",
     "shell.execute_reply": "2024-03-19T01:08:21.978278Z"
    },
    "id": "mit-2BjHejdN",
    "outputId": "e173912d-fe0f-4595-8869-318ee957e988"
   },
   "outputs": [
    {
     "name": "stdout",
     "output_type": "stream",
     "text": [
      "<class 'pandas.core.series.Series'>\n",
      "0      5.46\n",
      "1      5.64\n",
      "2      5.39\n",
      "3      3.83\n",
      "4      5.41\n",
      "       ... \n",
      "632    5.56\n",
      "633    5.34\n",
      "634    5.42\n",
      "635    5.39\n",
      "636    5.41\n",
      "Name: designPrecip, Length: 637, dtype: object\n"
     ]
    }
   ],
   "source": [
    "print(type(dams['designPrecip']))\n",
    "print((dams['designPrecip']))"
   ]
  },
  {
   "cell_type": "code",
   "execution_count": 8,
   "metadata": {
    "execution": {
     "iopub.execute_input": "2024-03-19T01:08:21.978278Z",
     "iopub.status.busy": "2024-03-19T01:08:21.978278Z",
     "iopub.status.idle": "2024-03-19T01:08:22.018400Z",
     "shell.execute_reply": "2024-03-19T01:08:22.018400Z"
    },
    "id": "lwttEbOJSbq_"
   },
   "outputs": [],
   "source": [
    "dams.to_csv('damsNOAA.csv', index=False)\n"
   ]
  }
 ],
 "metadata": {
  "colab": {
   "provenance": []
  },
  "kernelspec": {
   "display_name": "Python 3",
   "name": "python3"
  },
  "language_info": {
   "codemirror_mode": {
    "name": "ipython",
    "version": 3
   },
   "file_extension": ".py",
   "mimetype": "text/x-python",
   "name": "python",
   "nbconvert_exporter": "python",
   "pygments_lexer": "ipython3",
   "version": "3.11.8"
  }
 },
 "nbformat": 4,
 "nbformat_minor": 0
}
